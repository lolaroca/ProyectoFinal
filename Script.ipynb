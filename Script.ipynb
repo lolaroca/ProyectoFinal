{
 "cells": [
  {
   "cell_type": "code",
   "execution_count": 12,
   "id": "ce696c26",
   "metadata": {},
   "outputs": [],
   "source": [
    "import requests\n",
    "import plotly.graph_objects as go\n",
    "import tkinter as tk\n",
    "from tkinter import ttk\n",
    "from tkcalendar import Calendar\n",
    "import pandas as pd"
   ]
  },
  {
   "cell_type": "code",
   "execution_count": 2,
   "id": "526646e7",
   "metadata": {},
   "outputs": [
    {
     "name": "stdout",
     "output_type": "stream",
     "text": [
      "\n",
      "    Escoja dos sesnores para realizar una comparación de energía\n",
      "    1) Sensor 1,1     \n",
      "    2) Sensor 1,2\n",
      "    \n",
      "-Selecciona sensor 1 :1\n",
      "-Selecciona sensor 2: 2\n"
     ]
    }
   ],
   "source": [
    "# Imprimimos el menú en pantalla\n",
    "print(\"\"\"\n",
    "    Escoja dos sesnores para realizar una comparación de energía\n",
    "    1) Sensor 1,1     \n",
    "    2) Sensor 1,2\n",
    "    \"\"\")\n",
    "\n",
    "# Leemos lo que ingresa el usuario\n",
    "elijo1=input(\"-Selecciona sensor 1 :\")\n",
    "elijo2=input(\"-Selecciona sensor 2: \")\n",
    "\n",
    "\n",
    "# Según lo que ingresó, código diferente\n",
    "sensor1=\"\"\n",
    "sensor2=\"\"\n",
    "if elijo1==\"1\":\n",
    "    sensor1=\"emjeor\"\n",
    "elif elijo1==\"2\":\n",
    "    sensor1=\"emjeos\"\n",
    "    \n",
    "if elijo2==\"1\":\n",
    "    sensor2=\"emjeor\"\n",
    "elif elijo2==\"2\":\n",
    "    sensor2=\"emjeos\""
   ]
  },
  {
   "cell_type": "code",
   "execution_count": 5,
   "id": "b0b843af",
   "metadata": {},
   "outputs": [
    {
     "data": {
      "application/vnd.jupyter.widget-view+json": {
       "model_id": "912b0d41275841018b5bb4e89108fbeb",
       "version_major": 2,
       "version_minor": 0
      },
      "text/plain": [
       "interactive(children=(DatePicker(value=datetime.date(2023, 9, 1), description='Fecha de inicio'), Output()), _…"
      ]
     },
     "metadata": {},
     "output_type": "display_data"
    },
    {
     "name": "stdout",
     "output_type": "stream",
     "text": [
      "1693526400.0\n",
      "1700611200.0\n"
     ]
    }
   ],
   "source": [
    "import ipywidgets as widgets\n",
    "from ipywidgets import interact\n",
    "from datetime import datetime, time\n",
    "import ipywidgets as widgets\n",
    "from ipywidgets import interact\n",
    "from datetime import datetime, time\n",
    "\n",
    "timestamp_inicio = 0\n",
    "timestamp_fin = 0\n",
    "\n",
    "# Función que imprimirá las fechas seleccionadas y sus timestamps\n",
    "def obtener_fechas(fecha_inicio):\n",
    "    global timestamp_inicio  # Acceder a la variable global\n",
    "    global timestamp_fin # Acceder a la variable global\n",
    "    # Obtener la fecha de fin como el día actual\n",
    "    fecha_fin = datetime.now().date()\n",
    "    \n",
    "    \n",
    "    # Convertir fecha_inicio a datetime para calcular el timestamp\n",
    "    fecha_inicio_datetime = datetime.combine(fecha_inicio, time.min)\n",
    "    \n",
    "    timestamp_inicio = (fecha_inicio_datetime - datetime(1970, 1, 1)).total_seconds()\n",
    "    timestamp_fin = (datetime.combine(fecha_fin, time.min) - datetime(1970, 1, 1)).total_seconds()\n",
    "    \n",
    "    print(f\"Fechas seleccionadas: {fecha_inicio} - {fecha_fin}\")\n",
    "    print(f\"Timestamps: {timestamp_inicio} - {timestamp_fin}\")\n",
    "\n",
    "# Crear widget de fecha de inicio\n",
    "fecha_inicio_widget = widgets.DatePicker(description='Fecha de inicio', value=datetime(2023, 9, 1).date())\n",
    "\n",
    "# Crear widget interactivo\n",
    "interact(obtener_fechas, fecha_inicio=fecha_inicio_widget);\n",
    "\n",
    "print(timestamp_inicio)\n",
    "print(timestamp_fin)"
   ]
  },
  {
   "cell_type": "code",
   "execution_count": 6,
   "id": "8fe36c7b",
   "metadata": {},
   "outputs": [
    {
     "name": "stdout",
     "output_type": "stream",
     "text": [
      "1700524800.0\n",
      "1700611200.0\n"
     ]
    }
   ],
   "source": [
    "print(timestamp_inicio)\n",
    "print(timestamp_fin)"
   ]
  },
  {
   "cell_type": "code",
   "execution_count": 8,
   "id": "65c7c071",
   "metadata": {},
   "outputs": [
    {
     "name": "stdout",
     "output_type": "stream",
     "text": [
      "200\n",
      "https://api.energomonitor.com/v1/feeds/emjeic/streams/emjeor/data?data_time_from=1700524800.0&data_time_to=1700611200.0\n"
     ]
    }
   ],
   "source": [
    "url1 = \"https://api.energomonitor.com/v1/feeds/emjeic/streams/{0}/data?data_time_from={1}&data_time_to={2}\".format(sensor1,timestamp_inicio,timestamp_fin)\n",
    "url2 = \"https://api.energomonitor.com/v1/feeds/emjeic/streams/{0}/data?data_time_from={1}&data_time_to={2}\".format(sensor2,timestamp_inicio,timestamp_fin)\n",
    "#url = \"https://api.energomonitor.com/v1/feeds/emjeic/streams/emjeov/data?limit=100\"\n",
    "access_token = \"p9pbDtQLtXui9OVz8KBoXIdp0916qE\"\n",
    "headers =  {\"Content-Type\":\"application/json\", \"Authorization\": f\"Bearer {access_token}\"}\n",
    "\n",
    "result1 = requests.get(url1, headers=headers)\n",
    "result2 = requests.get(url2, headers=headers)\n",
    "\n",
    "if (result1.status_code == 200 & result2.status_code == 200):\n",
    "    response_json1 = result1.json()\n",
    "    response_json2 = result2.json()\n",
    "else:\n",
    "    print(f\"Error en la solicitud: {result1.status_code}\")\n",
    "\n",
    "print(result1.status_code)\n",
    "print(url1)"
   ]
  },
  {
   "cell_type": "code",
   "execution_count": 9,
   "id": "196ba137",
   "metadata": {},
   "outputs": [],
   "source": [
    "import time\n",
    "datos1 = []\n",
    "datos2 = []\n",
    "for i in range(len(response_json1)):\n",
    "    epoch_time = response_json1[i][0]\n",
    "    dia = time.strftime(\"%Y-%m-%d %H:%M:%S\", time.localtime(epoch_time))\n",
    "    datos1.append([dia, response_json1[i][1]])\n",
    "\n",
    "for i in range(len(response_json2)):\n",
    "    epoch_time = response_json2[i][0]\n",
    "    dia = time.strftime(\"%Y-%m-%d %H:%M:%S\", time.localtime(epoch_time))\n",
    "    datos2.append([dia, response_json2[i][1]])\n",
    "\n",
    "    \n"
   ]
  },
  {
   "cell_type": "code",
   "execution_count": 13,
   "id": "10e648c1",
   "metadata": {},
   "outputs": [],
   "source": [
    "fechas1 = [datos1[i][0] for i in range(len(datos1))]\n",
    "valores1 = [datos1[i][1] for i in range(len(datos1))]\n",
    "sensor11 = [\"sensor 1,1\" for i in range(len(datos1))]\n",
    "df1 = pd.DataFrame()\n",
    "df1[\"fechas\"] = fechas1\n",
    "df1[\"valores\"] = valores1\n",
    "df1[\"sensores\"]=sensor11\n",
    "\n",
    "fechas2 = [datos2[i][0] for i in range(len(datos2))]\n",
    "valores2 = [datos2[i][1] for i in range(len(datos2))]\n",
    "sensor12 = [\"sensor 1,2\" for i in range(len(datos2))]\n",
    "df2 = pd.DataFrame()\n",
    "df2[\"fechas\"] = fechas2\n",
    "df2[\"valores\"] = valores2\n",
    "df2[\"sensores\"]=sensor12\n"
   ]
  },
  {
   "cell_type": "code",
   "execution_count": 15,
   "id": "3d19b650",
   "metadata": {},
   "outputs": [
    {
     "data": {
      "application/vnd.plotly.v1+json": {
       "config": {
        "plotlyServerURL": "https://plot.ly"
       },
       "data": [
        {
         "mode": "lines",
         "name": "Sensor 1,1",
         "type": "scatter",
         "x": [
          "2023-11-22 15:48:00",
          "2023-11-22 15:49:00",
          "2023-11-22 15:50:00",
          "2023-11-22 15:51:00",
          "2023-11-22 15:52:00",
          "2023-11-22 15:53:00",
          "2023-11-22 15:54:00",
          "2023-11-22 15:55:00",
          "2023-11-22 15:56:00",
          "2023-11-22 15:57:00",
          "2023-11-22 15:58:00",
          "2023-11-22 15:59:00",
          "2023-11-22 16:00:00",
          "2023-11-22 16:01:00",
          "2023-11-22 16:02:00",
          "2023-11-22 16:03:00",
          "2023-11-22 16:04:00",
          "2023-11-22 16:05:00",
          "2023-11-22 16:06:00",
          "2023-11-22 16:07:00",
          "2023-11-22 16:08:00",
          "2023-11-22 16:09:00",
          "2023-11-22 16:10:00",
          "2023-11-22 16:11:00",
          "2023-11-22 16:12:00",
          "2023-11-22 16:13:00",
          "2023-11-22 16:14:00",
          "2023-11-22 16:15:00",
          "2023-11-22 16:16:00",
          "2023-11-22 16:17:00",
          "2023-11-22 16:18:00",
          "2023-11-22 16:19:00",
          "2023-11-22 16:20:00",
          "2023-11-22 16:21:00",
          "2023-11-22 16:22:00",
          "2023-11-22 16:23:00",
          "2023-11-22 16:24:00",
          "2023-11-22 16:25:00",
          "2023-11-22 16:26:00",
          "2023-11-22 16:27:00",
          "2023-11-22 16:28:00",
          "2023-11-22 16:29:00",
          "2023-11-22 16:30:00",
          "2023-11-22 16:31:00",
          "2023-11-22 16:32:00",
          "2023-11-22 16:33:00",
          "2023-11-22 16:34:00",
          "2023-11-22 16:35:00",
          "2023-11-22 16:36:00",
          "2023-11-22 16:37:00",
          "2023-11-22 16:38:00",
          "2023-11-22 16:39:00",
          "2023-11-22 16:40:00",
          "2023-11-22 16:41:00",
          "2023-11-22 16:42:00",
          "2023-11-22 16:43:00",
          "2023-11-22 16:44:00",
          "2023-11-22 16:45:00",
          "2023-11-22 16:46:00",
          "2023-11-22 16:47:00",
          "2023-11-22 16:48:00",
          "2023-11-22 16:49:00",
          "2023-11-22 16:50:00",
          "2023-11-22 16:51:00",
          "2023-11-22 16:52:00",
          "2023-11-22 16:53:00",
          "2023-11-22 16:54:00",
          "2023-11-22 16:55:00",
          "2023-11-22 16:56:00",
          "2023-11-22 16:57:00",
          "2023-11-22 16:58:00",
          "2023-11-22 16:59:00",
          "2023-11-22 17:00:00",
          "2023-11-22 17:01:00",
          "2023-11-22 17:02:00",
          "2023-11-22 17:03:00",
          "2023-11-22 17:04:00",
          "2023-11-22 17:05:00",
          "2023-11-22 17:06:00",
          "2023-11-22 17:07:00",
          "2023-11-22 17:08:00",
          "2023-11-22 17:09:00",
          "2023-11-22 17:10:00",
          "2023-11-22 17:11:00",
          "2023-11-22 17:12:00",
          "2023-11-22 17:13:00",
          "2023-11-22 17:14:00",
          "2023-11-22 17:15:00",
          "2023-11-22 17:16:00",
          "2023-11-22 17:17:00",
          "2023-11-22 17:18:00",
          "2023-11-22 17:19:00",
          "2023-11-22 17:20:00",
          "2023-11-22 17:21:00",
          "2023-11-22 17:22:00",
          "2023-11-22 17:23:00",
          "2023-11-22 17:24:00",
          "2023-11-22 17:25:00",
          "2023-11-22 17:26:00",
          "2023-11-22 17:27:00"
         ],
         "y": [
          6.428,
          7.323,
          7.677,
          7.672,
          7.472,
          7.085,
          7.105,
          7.067,
          7.052,
          6.805,
          6.655,
          6.622,
          6.553,
          6.575,
          6.525,
          6.565,
          6.517,
          6.452,
          6.435,
          6.413,
          6.463,
          6.487,
          6.4879999999999995,
          6.587,
          6.725,
          6.713,
          6.708,
          6.683,
          6.72,
          6.74,
          6.742,
          6.757,
          6.725,
          6.793,
          6.755,
          6.672,
          6.672,
          6.667,
          6.69,
          6.697,
          6.68,
          6.657,
          6.652,
          6.713,
          6.713,
          6.733,
          6.755,
          6.763,
          6.7620000000000005,
          6.737,
          6.752,
          6.765,
          6.727,
          6.712,
          6.72,
          6.703,
          6.713,
          6.712,
          6.6850000000000005,
          6.688,
          6.707,
          6.723,
          6.662,
          6.727,
          6.665,
          6.697,
          6.678,
          6.683,
          6.71,
          6.658,
          6.687,
          6.678,
          6.697,
          6.675,
          6.7780000000000005,
          6.682,
          6.688,
          6.67,
          6.68,
          6.68,
          6.705,
          6.698,
          6.672,
          6.688,
          6.6370000000000005,
          6.683,
          6.672,
          6.673,
          6.675,
          6.628,
          6.618,
          6.64,
          6.672,
          6.638,
          6.652,
          6.648,
          6.655,
          6.6129999999999995,
          6.662,
          6.6530000000000005
         ]
        },
        {
         "mode": "lines",
         "name": "Sensor 1,2",
         "type": "scatter",
         "x": [
          "2023-11-22 15:48:00",
          "2023-11-22 15:49:00",
          "2023-11-22 15:50:00",
          "2023-11-22 15:51:00",
          "2023-11-22 15:52:00",
          "2023-11-22 15:53:00",
          "2023-11-22 15:54:00",
          "2023-11-22 15:55:00",
          "2023-11-22 15:56:00",
          "2023-11-22 15:57:00",
          "2023-11-22 15:58:00",
          "2023-11-22 15:59:00",
          "2023-11-22 16:00:00",
          "2023-11-22 16:01:00",
          "2023-11-22 16:02:00",
          "2023-11-22 16:03:00",
          "2023-11-22 16:04:00",
          "2023-11-22 16:05:00",
          "2023-11-22 16:06:00",
          "2023-11-22 16:07:00",
          "2023-11-22 16:08:00",
          "2023-11-22 16:09:00",
          "2023-11-22 16:10:00",
          "2023-11-22 16:11:00",
          "2023-11-22 16:12:00",
          "2023-11-22 16:13:00",
          "2023-11-22 16:14:00",
          "2023-11-22 16:15:00",
          "2023-11-22 16:16:00",
          "2023-11-22 16:17:00",
          "2023-11-22 16:18:00",
          "2023-11-22 16:19:00",
          "2023-11-22 16:20:00",
          "2023-11-22 16:21:00",
          "2023-11-22 16:22:00",
          "2023-11-22 16:23:00",
          "2023-11-22 16:24:00",
          "2023-11-22 16:25:00",
          "2023-11-22 16:26:00",
          "2023-11-22 16:27:00",
          "2023-11-22 16:28:00",
          "2023-11-22 16:29:00",
          "2023-11-22 16:30:00",
          "2023-11-22 16:31:00",
          "2023-11-22 16:32:00",
          "2023-11-22 16:33:00",
          "2023-11-22 16:34:00",
          "2023-11-22 16:35:00",
          "2023-11-22 16:36:00",
          "2023-11-22 16:37:00",
          "2023-11-22 16:38:00",
          "2023-11-22 16:39:00",
          "2023-11-22 16:40:00",
          "2023-11-22 16:41:00",
          "2023-11-22 16:42:00",
          "2023-11-22 16:43:00",
          "2023-11-22 16:44:00",
          "2023-11-22 16:45:00",
          "2023-11-22 16:46:00",
          "2023-11-22 16:47:00",
          "2023-11-22 16:48:00",
          "2023-11-22 16:49:00",
          "2023-11-22 16:50:00",
          "2023-11-22 16:51:00",
          "2023-11-22 16:52:00",
          "2023-11-22 16:53:00",
          "2023-11-22 16:54:00",
          "2023-11-22 16:55:00",
          "2023-11-22 16:56:00",
          "2023-11-22 16:57:00",
          "2023-11-22 16:58:00",
          "2023-11-22 16:59:00",
          "2023-11-22 17:00:00",
          "2023-11-22 17:01:00",
          "2023-11-22 17:02:00",
          "2023-11-22 17:03:00",
          "2023-11-22 17:04:00",
          "2023-11-22 17:05:00",
          "2023-11-22 17:06:00",
          "2023-11-22 17:07:00",
          "2023-11-22 17:08:00",
          "2023-11-22 17:09:00",
          "2023-11-22 17:10:00",
          "2023-11-22 17:11:00",
          "2023-11-22 17:12:00",
          "2023-11-22 17:13:00",
          "2023-11-22 17:14:00",
          "2023-11-22 17:15:00",
          "2023-11-22 17:16:00",
          "2023-11-22 17:17:00",
          "2023-11-22 17:18:00",
          "2023-11-22 17:19:00",
          "2023-11-22 17:20:00",
          "2023-11-22 17:21:00",
          "2023-11-22 17:22:00",
          "2023-11-22 17:23:00",
          "2023-11-22 17:24:00",
          "2023-11-22 17:25:00",
          "2023-11-22 17:26:00",
          "2023-11-22 17:27:00"
         ],
         "y": [
          4.328,
          5.22,
          5.58,
          5.5600000000000005,
          5.347,
          4.98,
          5.015,
          4.968,
          4.963,
          4.68,
          4.578,
          4.522,
          4.433,
          4.433,
          4.443,
          4.43,
          4.388,
          4.315,
          4.305,
          4.283,
          4.35,
          4.348,
          4.385,
          4.475,
          4.5969999999999995,
          4.583,
          4.62,
          4.608,
          4.607,
          4.592,
          4.603,
          4.5969999999999995,
          4.635,
          4.62,
          4.6,
          4.557,
          4.547,
          4.565,
          4.545,
          4.542,
          4.565,
          4.5600000000000005,
          4.558,
          4.573,
          4.5969999999999995,
          4.6370000000000005,
          4.65,
          4.635,
          4.635,
          4.642,
          4.632,
          4.622,
          4.635,
          4.57,
          4.563,
          4.572,
          4.57,
          4.557,
          4.562,
          4.54,
          4.542,
          4.572,
          4.557,
          4.555,
          4.562,
          4.542,
          4.55,
          4.558,
          4.562,
          4.545,
          4.538,
          4.565,
          4.552,
          4.5600000000000005,
          4.64,
          4.558,
          4.538,
          4.563,
          4.553,
          4.552,
          4.55,
          4.543,
          4.565,
          4.53,
          4.557,
          4.542,
          4.552,
          4.547,
          4.535,
          4.51,
          4.522,
          4.508,
          4.508,
          4.52,
          4.518,
          4.515,
          4.493,
          4.51,
          4.527,
          4.515
         ]
        }
       ],
       "layout": {
        "template": {
         "data": {
          "bar": [
           {
            "error_x": {
             "color": "#2a3f5f"
            },
            "error_y": {
             "color": "#2a3f5f"
            },
            "marker": {
             "line": {
              "color": "#E5ECF6",
              "width": 0.5
             },
             "pattern": {
              "fillmode": "overlay",
              "size": 10,
              "solidity": 0.2
             }
            },
            "type": "bar"
           }
          ],
          "barpolar": [
           {
            "marker": {
             "line": {
              "color": "#E5ECF6",
              "width": 0.5
             },
             "pattern": {
              "fillmode": "overlay",
              "size": 10,
              "solidity": 0.2
             }
            },
            "type": "barpolar"
           }
          ],
          "carpet": [
           {
            "aaxis": {
             "endlinecolor": "#2a3f5f",
             "gridcolor": "white",
             "linecolor": "white",
             "minorgridcolor": "white",
             "startlinecolor": "#2a3f5f"
            },
            "baxis": {
             "endlinecolor": "#2a3f5f",
             "gridcolor": "white",
             "linecolor": "white",
             "minorgridcolor": "white",
             "startlinecolor": "#2a3f5f"
            },
            "type": "carpet"
           }
          ],
          "choropleth": [
           {
            "colorbar": {
             "outlinewidth": 0,
             "ticks": ""
            },
            "type": "choropleth"
           }
          ],
          "contour": [
           {
            "colorbar": {
             "outlinewidth": 0,
             "ticks": ""
            },
            "colorscale": [
             [
              0,
              "#0d0887"
             ],
             [
              0.1111111111111111,
              "#46039f"
             ],
             [
              0.2222222222222222,
              "#7201a8"
             ],
             [
              0.3333333333333333,
              "#9c179e"
             ],
             [
              0.4444444444444444,
              "#bd3786"
             ],
             [
              0.5555555555555556,
              "#d8576b"
             ],
             [
              0.6666666666666666,
              "#ed7953"
             ],
             [
              0.7777777777777778,
              "#fb9f3a"
             ],
             [
              0.8888888888888888,
              "#fdca26"
             ],
             [
              1,
              "#f0f921"
             ]
            ],
            "type": "contour"
           }
          ],
          "contourcarpet": [
           {
            "colorbar": {
             "outlinewidth": 0,
             "ticks": ""
            },
            "type": "contourcarpet"
           }
          ],
          "heatmap": [
           {
            "colorbar": {
             "outlinewidth": 0,
             "ticks": ""
            },
            "colorscale": [
             [
              0,
              "#0d0887"
             ],
             [
              0.1111111111111111,
              "#46039f"
             ],
             [
              0.2222222222222222,
              "#7201a8"
             ],
             [
              0.3333333333333333,
              "#9c179e"
             ],
             [
              0.4444444444444444,
              "#bd3786"
             ],
             [
              0.5555555555555556,
              "#d8576b"
             ],
             [
              0.6666666666666666,
              "#ed7953"
             ],
             [
              0.7777777777777778,
              "#fb9f3a"
             ],
             [
              0.8888888888888888,
              "#fdca26"
             ],
             [
              1,
              "#f0f921"
             ]
            ],
            "type": "heatmap"
           }
          ],
          "heatmapgl": [
           {
            "colorbar": {
             "outlinewidth": 0,
             "ticks": ""
            },
            "colorscale": [
             [
              0,
              "#0d0887"
             ],
             [
              0.1111111111111111,
              "#46039f"
             ],
             [
              0.2222222222222222,
              "#7201a8"
             ],
             [
              0.3333333333333333,
              "#9c179e"
             ],
             [
              0.4444444444444444,
              "#bd3786"
             ],
             [
              0.5555555555555556,
              "#d8576b"
             ],
             [
              0.6666666666666666,
              "#ed7953"
             ],
             [
              0.7777777777777778,
              "#fb9f3a"
             ],
             [
              0.8888888888888888,
              "#fdca26"
             ],
             [
              1,
              "#f0f921"
             ]
            ],
            "type": "heatmapgl"
           }
          ],
          "histogram": [
           {
            "marker": {
             "pattern": {
              "fillmode": "overlay",
              "size": 10,
              "solidity": 0.2
             }
            },
            "type": "histogram"
           }
          ],
          "histogram2d": [
           {
            "colorbar": {
             "outlinewidth": 0,
             "ticks": ""
            },
            "colorscale": [
             [
              0,
              "#0d0887"
             ],
             [
              0.1111111111111111,
              "#46039f"
             ],
             [
              0.2222222222222222,
              "#7201a8"
             ],
             [
              0.3333333333333333,
              "#9c179e"
             ],
             [
              0.4444444444444444,
              "#bd3786"
             ],
             [
              0.5555555555555556,
              "#d8576b"
             ],
             [
              0.6666666666666666,
              "#ed7953"
             ],
             [
              0.7777777777777778,
              "#fb9f3a"
             ],
             [
              0.8888888888888888,
              "#fdca26"
             ],
             [
              1,
              "#f0f921"
             ]
            ],
            "type": "histogram2d"
           }
          ],
          "histogram2dcontour": [
           {
            "colorbar": {
             "outlinewidth": 0,
             "ticks": ""
            },
            "colorscale": [
             [
              0,
              "#0d0887"
             ],
             [
              0.1111111111111111,
              "#46039f"
             ],
             [
              0.2222222222222222,
              "#7201a8"
             ],
             [
              0.3333333333333333,
              "#9c179e"
             ],
             [
              0.4444444444444444,
              "#bd3786"
             ],
             [
              0.5555555555555556,
              "#d8576b"
             ],
             [
              0.6666666666666666,
              "#ed7953"
             ],
             [
              0.7777777777777778,
              "#fb9f3a"
             ],
             [
              0.8888888888888888,
              "#fdca26"
             ],
             [
              1,
              "#f0f921"
             ]
            ],
            "type": "histogram2dcontour"
           }
          ],
          "mesh3d": [
           {
            "colorbar": {
             "outlinewidth": 0,
             "ticks": ""
            },
            "type": "mesh3d"
           }
          ],
          "parcoords": [
           {
            "line": {
             "colorbar": {
              "outlinewidth": 0,
              "ticks": ""
             }
            },
            "type": "parcoords"
           }
          ],
          "pie": [
           {
            "automargin": true,
            "type": "pie"
           }
          ],
          "scatter": [
           {
            "marker": {
             "colorbar": {
              "outlinewidth": 0,
              "ticks": ""
             }
            },
            "type": "scatter"
           }
          ],
          "scatter3d": [
           {
            "line": {
             "colorbar": {
              "outlinewidth": 0,
              "ticks": ""
             }
            },
            "marker": {
             "colorbar": {
              "outlinewidth": 0,
              "ticks": ""
             }
            },
            "type": "scatter3d"
           }
          ],
          "scattercarpet": [
           {
            "marker": {
             "colorbar": {
              "outlinewidth": 0,
              "ticks": ""
             }
            },
            "type": "scattercarpet"
           }
          ],
          "scattergeo": [
           {
            "marker": {
             "colorbar": {
              "outlinewidth": 0,
              "ticks": ""
             }
            },
            "type": "scattergeo"
           }
          ],
          "scattergl": [
           {
            "marker": {
             "colorbar": {
              "outlinewidth": 0,
              "ticks": ""
             }
            },
            "type": "scattergl"
           }
          ],
          "scattermapbox": [
           {
            "marker": {
             "colorbar": {
              "outlinewidth": 0,
              "ticks": ""
             }
            },
            "type": "scattermapbox"
           }
          ],
          "scatterpolar": [
           {
            "marker": {
             "colorbar": {
              "outlinewidth": 0,
              "ticks": ""
             }
            },
            "type": "scatterpolar"
           }
          ],
          "scatterpolargl": [
           {
            "marker": {
             "colorbar": {
              "outlinewidth": 0,
              "ticks": ""
             }
            },
            "type": "scatterpolargl"
           }
          ],
          "scatterternary": [
           {
            "marker": {
             "colorbar": {
              "outlinewidth": 0,
              "ticks": ""
             }
            },
            "type": "scatterternary"
           }
          ],
          "surface": [
           {
            "colorbar": {
             "outlinewidth": 0,
             "ticks": ""
            },
            "colorscale": [
             [
              0,
              "#0d0887"
             ],
             [
              0.1111111111111111,
              "#46039f"
             ],
             [
              0.2222222222222222,
              "#7201a8"
             ],
             [
              0.3333333333333333,
              "#9c179e"
             ],
             [
              0.4444444444444444,
              "#bd3786"
             ],
             [
              0.5555555555555556,
              "#d8576b"
             ],
             [
              0.6666666666666666,
              "#ed7953"
             ],
             [
              0.7777777777777778,
              "#fb9f3a"
             ],
             [
              0.8888888888888888,
              "#fdca26"
             ],
             [
              1,
              "#f0f921"
             ]
            ],
            "type": "surface"
           }
          ],
          "table": [
           {
            "cells": {
             "fill": {
              "color": "#EBF0F8"
             },
             "line": {
              "color": "white"
             }
            },
            "header": {
             "fill": {
              "color": "#C8D4E3"
             },
             "line": {
              "color": "white"
             }
            },
            "type": "table"
           }
          ]
         },
         "layout": {
          "annotationdefaults": {
           "arrowcolor": "#2a3f5f",
           "arrowhead": 0,
           "arrowwidth": 1
          },
          "autotypenumbers": "strict",
          "coloraxis": {
           "colorbar": {
            "outlinewidth": 0,
            "ticks": ""
           }
          },
          "colorscale": {
           "diverging": [
            [
             0,
             "#8e0152"
            ],
            [
             0.1,
             "#c51b7d"
            ],
            [
             0.2,
             "#de77ae"
            ],
            [
             0.3,
             "#f1b6da"
            ],
            [
             0.4,
             "#fde0ef"
            ],
            [
             0.5,
             "#f7f7f7"
            ],
            [
             0.6,
             "#e6f5d0"
            ],
            [
             0.7,
             "#b8e186"
            ],
            [
             0.8,
             "#7fbc41"
            ],
            [
             0.9,
             "#4d9221"
            ],
            [
             1,
             "#276419"
            ]
           ],
           "sequential": [
            [
             0,
             "#0d0887"
            ],
            [
             0.1111111111111111,
             "#46039f"
            ],
            [
             0.2222222222222222,
             "#7201a8"
            ],
            [
             0.3333333333333333,
             "#9c179e"
            ],
            [
             0.4444444444444444,
             "#bd3786"
            ],
            [
             0.5555555555555556,
             "#d8576b"
            ],
            [
             0.6666666666666666,
             "#ed7953"
            ],
            [
             0.7777777777777778,
             "#fb9f3a"
            ],
            [
             0.8888888888888888,
             "#fdca26"
            ],
            [
             1,
             "#f0f921"
            ]
           ],
           "sequentialminus": [
            [
             0,
             "#0d0887"
            ],
            [
             0.1111111111111111,
             "#46039f"
            ],
            [
             0.2222222222222222,
             "#7201a8"
            ],
            [
             0.3333333333333333,
             "#9c179e"
            ],
            [
             0.4444444444444444,
             "#bd3786"
            ],
            [
             0.5555555555555556,
             "#d8576b"
            ],
            [
             0.6666666666666666,
             "#ed7953"
            ],
            [
             0.7777777777777778,
             "#fb9f3a"
            ],
            [
             0.8888888888888888,
             "#fdca26"
            ],
            [
             1,
             "#f0f921"
            ]
           ]
          },
          "colorway": [
           "#636efa",
           "#EF553B",
           "#00cc96",
           "#ab63fa",
           "#FFA15A",
           "#19d3f3",
           "#FF6692",
           "#B6E880",
           "#FF97FF",
           "#FECB52"
          ],
          "font": {
           "color": "#2a3f5f"
          },
          "geo": {
           "bgcolor": "white",
           "lakecolor": "white",
           "landcolor": "#E5ECF6",
           "showlakes": true,
           "showland": true,
           "subunitcolor": "white"
          },
          "hoverlabel": {
           "align": "left"
          },
          "hovermode": "closest",
          "mapbox": {
           "style": "light"
          },
          "paper_bgcolor": "white",
          "plot_bgcolor": "#E5ECF6",
          "polar": {
           "angularaxis": {
            "gridcolor": "white",
            "linecolor": "white",
            "ticks": ""
           },
           "bgcolor": "#E5ECF6",
           "radialaxis": {
            "gridcolor": "white",
            "linecolor": "white",
            "ticks": ""
           }
          },
          "scene": {
           "xaxis": {
            "backgroundcolor": "#E5ECF6",
            "gridcolor": "white",
            "gridwidth": 2,
            "linecolor": "white",
            "showbackground": true,
            "ticks": "",
            "zerolinecolor": "white"
           },
           "yaxis": {
            "backgroundcolor": "#E5ECF6",
            "gridcolor": "white",
            "gridwidth": 2,
            "linecolor": "white",
            "showbackground": true,
            "ticks": "",
            "zerolinecolor": "white"
           },
           "zaxis": {
            "backgroundcolor": "#E5ECF6",
            "gridcolor": "white",
            "gridwidth": 2,
            "linecolor": "white",
            "showbackground": true,
            "ticks": "",
            "zerolinecolor": "white"
           }
          },
          "shapedefaults": {
           "line": {
            "color": "#2a3f5f"
           }
          },
          "ternary": {
           "aaxis": {
            "gridcolor": "white",
            "linecolor": "white",
            "ticks": ""
           },
           "baxis": {
            "gridcolor": "white",
            "linecolor": "white",
            "ticks": ""
           },
           "bgcolor": "#E5ECF6",
           "caxis": {
            "gridcolor": "white",
            "linecolor": "white",
            "ticks": ""
           }
          },
          "title": {
           "x": 0.05
          },
          "xaxis": {
           "automargin": true,
           "gridcolor": "white",
           "linecolor": "white",
           "ticks": "",
           "title": {
            "standoff": 15
           },
           "zerolinecolor": "white",
           "zerolinewidth": 2
          },
          "yaxis": {
           "automargin": true,
           "gridcolor": "white",
           "linecolor": "white",
           "ticks": "",
           "title": {
            "standoff": 15
           },
           "zerolinecolor": "white",
           "zerolinewidth": 2
          }
         }
        },
        "title": {
         "text": "Comparación dos sensores"
        }
       }
      },
      "text/html": [
       "<div>                            <div id=\"e4f44855-01ae-4e22-864d-6c9a88a6dd39\" class=\"plotly-graph-div\" style=\"height:525px; width:100%;\"></div>            <script type=\"text/javascript\">                require([\"plotly\"], function(Plotly) {                    window.PLOTLYENV=window.PLOTLYENV || {};                                    if (document.getElementById(\"e4f44855-01ae-4e22-864d-6c9a88a6dd39\")) {                    Plotly.newPlot(                        \"e4f44855-01ae-4e22-864d-6c9a88a6dd39\",                        [{\"mode\":\"lines\",\"name\":\"Sensor 1,1\",\"x\":[\"2023-11-22 15:48:00\",\"2023-11-22 15:49:00\",\"2023-11-22 15:50:00\",\"2023-11-22 15:51:00\",\"2023-11-22 15:52:00\",\"2023-11-22 15:53:00\",\"2023-11-22 15:54:00\",\"2023-11-22 15:55:00\",\"2023-11-22 15:56:00\",\"2023-11-22 15:57:00\",\"2023-11-22 15:58:00\",\"2023-11-22 15:59:00\",\"2023-11-22 16:00:00\",\"2023-11-22 16:01:00\",\"2023-11-22 16:02:00\",\"2023-11-22 16:03:00\",\"2023-11-22 16:04:00\",\"2023-11-22 16:05:00\",\"2023-11-22 16:06:00\",\"2023-11-22 16:07:00\",\"2023-11-22 16:08:00\",\"2023-11-22 16:09:00\",\"2023-11-22 16:10:00\",\"2023-11-22 16:11:00\",\"2023-11-22 16:12:00\",\"2023-11-22 16:13:00\",\"2023-11-22 16:14:00\",\"2023-11-22 16:15:00\",\"2023-11-22 16:16:00\",\"2023-11-22 16:17:00\",\"2023-11-22 16:18:00\",\"2023-11-22 16:19:00\",\"2023-11-22 16:20:00\",\"2023-11-22 16:21:00\",\"2023-11-22 16:22:00\",\"2023-11-22 16:23:00\",\"2023-11-22 16:24:00\",\"2023-11-22 16:25:00\",\"2023-11-22 16:26:00\",\"2023-11-22 16:27:00\",\"2023-11-22 16:28:00\",\"2023-11-22 16:29:00\",\"2023-11-22 16:30:00\",\"2023-11-22 16:31:00\",\"2023-11-22 16:32:00\",\"2023-11-22 16:33:00\",\"2023-11-22 16:34:00\",\"2023-11-22 16:35:00\",\"2023-11-22 16:36:00\",\"2023-11-22 16:37:00\",\"2023-11-22 16:38:00\",\"2023-11-22 16:39:00\",\"2023-11-22 16:40:00\",\"2023-11-22 16:41:00\",\"2023-11-22 16:42:00\",\"2023-11-22 16:43:00\",\"2023-11-22 16:44:00\",\"2023-11-22 16:45:00\",\"2023-11-22 16:46:00\",\"2023-11-22 16:47:00\",\"2023-11-22 16:48:00\",\"2023-11-22 16:49:00\",\"2023-11-22 16:50:00\",\"2023-11-22 16:51:00\",\"2023-11-22 16:52:00\",\"2023-11-22 16:53:00\",\"2023-11-22 16:54:00\",\"2023-11-22 16:55:00\",\"2023-11-22 16:56:00\",\"2023-11-22 16:57:00\",\"2023-11-22 16:58:00\",\"2023-11-22 16:59:00\",\"2023-11-22 17:00:00\",\"2023-11-22 17:01:00\",\"2023-11-22 17:02:00\",\"2023-11-22 17:03:00\",\"2023-11-22 17:04:00\",\"2023-11-22 17:05:00\",\"2023-11-22 17:06:00\",\"2023-11-22 17:07:00\",\"2023-11-22 17:08:00\",\"2023-11-22 17:09:00\",\"2023-11-22 17:10:00\",\"2023-11-22 17:11:00\",\"2023-11-22 17:12:00\",\"2023-11-22 17:13:00\",\"2023-11-22 17:14:00\",\"2023-11-22 17:15:00\",\"2023-11-22 17:16:00\",\"2023-11-22 17:17:00\",\"2023-11-22 17:18:00\",\"2023-11-22 17:19:00\",\"2023-11-22 17:20:00\",\"2023-11-22 17:21:00\",\"2023-11-22 17:22:00\",\"2023-11-22 17:23:00\",\"2023-11-22 17:24:00\",\"2023-11-22 17:25:00\",\"2023-11-22 17:26:00\",\"2023-11-22 17:27:00\"],\"y\":[6.428,7.323,7.677,7.672,7.472,7.085,7.105,7.067,7.052,6.805,6.655,6.622,6.553,6.575,6.525,6.565,6.517,6.452,6.435,6.413,6.463,6.487,6.4879999999999995,6.587,6.725,6.713,6.708,6.683,6.72,6.74,6.742,6.757,6.725,6.793,6.755,6.672,6.672,6.667,6.69,6.697,6.68,6.657,6.652,6.713,6.713,6.733,6.755,6.763,6.7620000000000005,6.737,6.752,6.765,6.727,6.712,6.72,6.703,6.713,6.712,6.6850000000000005,6.688,6.707,6.723,6.662,6.727,6.665,6.697,6.678,6.683,6.71,6.658,6.687,6.678,6.697,6.675,6.7780000000000005,6.682,6.688,6.67,6.68,6.68,6.705,6.698,6.672,6.688,6.6370000000000005,6.683,6.672,6.673,6.675,6.628,6.618,6.64,6.672,6.638,6.652,6.648,6.655,6.6129999999999995,6.662,6.6530000000000005],\"type\":\"scatter\"},{\"mode\":\"lines\",\"name\":\"Sensor 1,2\",\"x\":[\"2023-11-22 15:48:00\",\"2023-11-22 15:49:00\",\"2023-11-22 15:50:00\",\"2023-11-22 15:51:00\",\"2023-11-22 15:52:00\",\"2023-11-22 15:53:00\",\"2023-11-22 15:54:00\",\"2023-11-22 15:55:00\",\"2023-11-22 15:56:00\",\"2023-11-22 15:57:00\",\"2023-11-22 15:58:00\",\"2023-11-22 15:59:00\",\"2023-11-22 16:00:00\",\"2023-11-22 16:01:00\",\"2023-11-22 16:02:00\",\"2023-11-22 16:03:00\",\"2023-11-22 16:04:00\",\"2023-11-22 16:05:00\",\"2023-11-22 16:06:00\",\"2023-11-22 16:07:00\",\"2023-11-22 16:08:00\",\"2023-11-22 16:09:00\",\"2023-11-22 16:10:00\",\"2023-11-22 16:11:00\",\"2023-11-22 16:12:00\",\"2023-11-22 16:13:00\",\"2023-11-22 16:14:00\",\"2023-11-22 16:15:00\",\"2023-11-22 16:16:00\",\"2023-11-22 16:17:00\",\"2023-11-22 16:18:00\",\"2023-11-22 16:19:00\",\"2023-11-22 16:20:00\",\"2023-11-22 16:21:00\",\"2023-11-22 16:22:00\",\"2023-11-22 16:23:00\",\"2023-11-22 16:24:00\",\"2023-11-22 16:25:00\",\"2023-11-22 16:26:00\",\"2023-11-22 16:27:00\",\"2023-11-22 16:28:00\",\"2023-11-22 16:29:00\",\"2023-11-22 16:30:00\",\"2023-11-22 16:31:00\",\"2023-11-22 16:32:00\",\"2023-11-22 16:33:00\",\"2023-11-22 16:34:00\",\"2023-11-22 16:35:00\",\"2023-11-22 16:36:00\",\"2023-11-22 16:37:00\",\"2023-11-22 16:38:00\",\"2023-11-22 16:39:00\",\"2023-11-22 16:40:00\",\"2023-11-22 16:41:00\",\"2023-11-22 16:42:00\",\"2023-11-22 16:43:00\",\"2023-11-22 16:44:00\",\"2023-11-22 16:45:00\",\"2023-11-22 16:46:00\",\"2023-11-22 16:47:00\",\"2023-11-22 16:48:00\",\"2023-11-22 16:49:00\",\"2023-11-22 16:50:00\",\"2023-11-22 16:51:00\",\"2023-11-22 16:52:00\",\"2023-11-22 16:53:00\",\"2023-11-22 16:54:00\",\"2023-11-22 16:55:00\",\"2023-11-22 16:56:00\",\"2023-11-22 16:57:00\",\"2023-11-22 16:58:00\",\"2023-11-22 16:59:00\",\"2023-11-22 17:00:00\",\"2023-11-22 17:01:00\",\"2023-11-22 17:02:00\",\"2023-11-22 17:03:00\",\"2023-11-22 17:04:00\",\"2023-11-22 17:05:00\",\"2023-11-22 17:06:00\",\"2023-11-22 17:07:00\",\"2023-11-22 17:08:00\",\"2023-11-22 17:09:00\",\"2023-11-22 17:10:00\",\"2023-11-22 17:11:00\",\"2023-11-22 17:12:00\",\"2023-11-22 17:13:00\",\"2023-11-22 17:14:00\",\"2023-11-22 17:15:00\",\"2023-11-22 17:16:00\",\"2023-11-22 17:17:00\",\"2023-11-22 17:18:00\",\"2023-11-22 17:19:00\",\"2023-11-22 17:20:00\",\"2023-11-22 17:21:00\",\"2023-11-22 17:22:00\",\"2023-11-22 17:23:00\",\"2023-11-22 17:24:00\",\"2023-11-22 17:25:00\",\"2023-11-22 17:26:00\",\"2023-11-22 17:27:00\"],\"y\":[4.328,5.22,5.58,5.5600000000000005,5.347,4.98,5.015,4.968,4.963,4.68,4.578,4.522,4.433,4.433,4.443,4.43,4.388,4.315,4.305,4.283,4.35,4.348,4.385,4.475,4.5969999999999995,4.583,4.62,4.608,4.607,4.592,4.603,4.5969999999999995,4.635,4.62,4.6,4.557,4.547,4.565,4.545,4.542,4.565,4.5600000000000005,4.558,4.573,4.5969999999999995,4.6370000000000005,4.65,4.635,4.635,4.642,4.632,4.622,4.635,4.57,4.563,4.572,4.57,4.557,4.562,4.54,4.542,4.572,4.557,4.555,4.562,4.542,4.55,4.558,4.562,4.545,4.538,4.565,4.552,4.5600000000000005,4.64,4.558,4.538,4.563,4.553,4.552,4.55,4.543,4.565,4.53,4.557,4.542,4.552,4.547,4.535,4.51,4.522,4.508,4.508,4.52,4.518,4.515,4.493,4.51,4.527,4.515],\"type\":\"scatter\"}],                        {\"template\":{\"data\":{\"bar\":[{\"error_x\":{\"color\":\"#2a3f5f\"},\"error_y\":{\"color\":\"#2a3f5f\"},\"marker\":{\"line\":{\"color\":\"#E5ECF6\",\"width\":0.5},\"pattern\":{\"fillmode\":\"overlay\",\"size\":10,\"solidity\":0.2}},\"type\":\"bar\"}],\"barpolar\":[{\"marker\":{\"line\":{\"color\":\"#E5ECF6\",\"width\":0.5},\"pattern\":{\"fillmode\":\"overlay\",\"size\":10,\"solidity\":0.2}},\"type\":\"barpolar\"}],\"carpet\":[{\"aaxis\":{\"endlinecolor\":\"#2a3f5f\",\"gridcolor\":\"white\",\"linecolor\":\"white\",\"minorgridcolor\":\"white\",\"startlinecolor\":\"#2a3f5f\"},\"baxis\":{\"endlinecolor\":\"#2a3f5f\",\"gridcolor\":\"white\",\"linecolor\":\"white\",\"minorgridcolor\":\"white\",\"startlinecolor\":\"#2a3f5f\"},\"type\":\"carpet\"}],\"choropleth\":[{\"colorbar\":{\"outlinewidth\":0,\"ticks\":\"\"},\"type\":\"choropleth\"}],\"contour\":[{\"colorbar\":{\"outlinewidth\":0,\"ticks\":\"\"},\"colorscale\":[[0.0,\"#0d0887\"],[0.1111111111111111,\"#46039f\"],[0.2222222222222222,\"#7201a8\"],[0.3333333333333333,\"#9c179e\"],[0.4444444444444444,\"#bd3786\"],[0.5555555555555556,\"#d8576b\"],[0.6666666666666666,\"#ed7953\"],[0.7777777777777778,\"#fb9f3a\"],[0.8888888888888888,\"#fdca26\"],[1.0,\"#f0f921\"]],\"type\":\"contour\"}],\"contourcarpet\":[{\"colorbar\":{\"outlinewidth\":0,\"ticks\":\"\"},\"type\":\"contourcarpet\"}],\"heatmap\":[{\"colorbar\":{\"outlinewidth\":0,\"ticks\":\"\"},\"colorscale\":[[0.0,\"#0d0887\"],[0.1111111111111111,\"#46039f\"],[0.2222222222222222,\"#7201a8\"],[0.3333333333333333,\"#9c179e\"],[0.4444444444444444,\"#bd3786\"],[0.5555555555555556,\"#d8576b\"],[0.6666666666666666,\"#ed7953\"],[0.7777777777777778,\"#fb9f3a\"],[0.8888888888888888,\"#fdca26\"],[1.0,\"#f0f921\"]],\"type\":\"heatmap\"}],\"heatmapgl\":[{\"colorbar\":{\"outlinewidth\":0,\"ticks\":\"\"},\"colorscale\":[[0.0,\"#0d0887\"],[0.1111111111111111,\"#46039f\"],[0.2222222222222222,\"#7201a8\"],[0.3333333333333333,\"#9c179e\"],[0.4444444444444444,\"#bd3786\"],[0.5555555555555556,\"#d8576b\"],[0.6666666666666666,\"#ed7953\"],[0.7777777777777778,\"#fb9f3a\"],[0.8888888888888888,\"#fdca26\"],[1.0,\"#f0f921\"]],\"type\":\"heatmapgl\"}],\"histogram\":[{\"marker\":{\"pattern\":{\"fillmode\":\"overlay\",\"size\":10,\"solidity\":0.2}},\"type\":\"histogram\"}],\"histogram2d\":[{\"colorbar\":{\"outlinewidth\":0,\"ticks\":\"\"},\"colorscale\":[[0.0,\"#0d0887\"],[0.1111111111111111,\"#46039f\"],[0.2222222222222222,\"#7201a8\"],[0.3333333333333333,\"#9c179e\"],[0.4444444444444444,\"#bd3786\"],[0.5555555555555556,\"#d8576b\"],[0.6666666666666666,\"#ed7953\"],[0.7777777777777778,\"#fb9f3a\"],[0.8888888888888888,\"#fdca26\"],[1.0,\"#f0f921\"]],\"type\":\"histogram2d\"}],\"histogram2dcontour\":[{\"colorbar\":{\"outlinewidth\":0,\"ticks\":\"\"},\"colorscale\":[[0.0,\"#0d0887\"],[0.1111111111111111,\"#46039f\"],[0.2222222222222222,\"#7201a8\"],[0.3333333333333333,\"#9c179e\"],[0.4444444444444444,\"#bd3786\"],[0.5555555555555556,\"#d8576b\"],[0.6666666666666666,\"#ed7953\"],[0.7777777777777778,\"#fb9f3a\"],[0.8888888888888888,\"#fdca26\"],[1.0,\"#f0f921\"]],\"type\":\"histogram2dcontour\"}],\"mesh3d\":[{\"colorbar\":{\"outlinewidth\":0,\"ticks\":\"\"},\"type\":\"mesh3d\"}],\"parcoords\":[{\"line\":{\"colorbar\":{\"outlinewidth\":0,\"ticks\":\"\"}},\"type\":\"parcoords\"}],\"pie\":[{\"automargin\":true,\"type\":\"pie\"}],\"scatter\":[{\"marker\":{\"colorbar\":{\"outlinewidth\":0,\"ticks\":\"\"}},\"type\":\"scatter\"}],\"scatter3d\":[{\"line\":{\"colorbar\":{\"outlinewidth\":0,\"ticks\":\"\"}},\"marker\":{\"colorbar\":{\"outlinewidth\":0,\"ticks\":\"\"}},\"type\":\"scatter3d\"}],\"scattercarpet\":[{\"marker\":{\"colorbar\":{\"outlinewidth\":0,\"ticks\":\"\"}},\"type\":\"scattercarpet\"}],\"scattergeo\":[{\"marker\":{\"colorbar\":{\"outlinewidth\":0,\"ticks\":\"\"}},\"type\":\"scattergeo\"}],\"scattergl\":[{\"marker\":{\"colorbar\":{\"outlinewidth\":0,\"ticks\":\"\"}},\"type\":\"scattergl\"}],\"scattermapbox\":[{\"marker\":{\"colorbar\":{\"outlinewidth\":0,\"ticks\":\"\"}},\"type\":\"scattermapbox\"}],\"scatterpolar\":[{\"marker\":{\"colorbar\":{\"outlinewidth\":0,\"ticks\":\"\"}},\"type\":\"scatterpolar\"}],\"scatterpolargl\":[{\"marker\":{\"colorbar\":{\"outlinewidth\":0,\"ticks\":\"\"}},\"type\":\"scatterpolargl\"}],\"scatterternary\":[{\"marker\":{\"colorbar\":{\"outlinewidth\":0,\"ticks\":\"\"}},\"type\":\"scatterternary\"}],\"surface\":[{\"colorbar\":{\"outlinewidth\":0,\"ticks\":\"\"},\"colorscale\":[[0.0,\"#0d0887\"],[0.1111111111111111,\"#46039f\"],[0.2222222222222222,\"#7201a8\"],[0.3333333333333333,\"#9c179e\"],[0.4444444444444444,\"#bd3786\"],[0.5555555555555556,\"#d8576b\"],[0.6666666666666666,\"#ed7953\"],[0.7777777777777778,\"#fb9f3a\"],[0.8888888888888888,\"#fdca26\"],[1.0,\"#f0f921\"]],\"type\":\"surface\"}],\"table\":[{\"cells\":{\"fill\":{\"color\":\"#EBF0F8\"},\"line\":{\"color\":\"white\"}},\"header\":{\"fill\":{\"color\":\"#C8D4E3\"},\"line\":{\"color\":\"white\"}},\"type\":\"table\"}]},\"layout\":{\"annotationdefaults\":{\"arrowcolor\":\"#2a3f5f\",\"arrowhead\":0,\"arrowwidth\":1},\"autotypenumbers\":\"strict\",\"coloraxis\":{\"colorbar\":{\"outlinewidth\":0,\"ticks\":\"\"}},\"colorscale\":{\"diverging\":[[0,\"#8e0152\"],[0.1,\"#c51b7d\"],[0.2,\"#de77ae\"],[0.3,\"#f1b6da\"],[0.4,\"#fde0ef\"],[0.5,\"#f7f7f7\"],[0.6,\"#e6f5d0\"],[0.7,\"#b8e186\"],[0.8,\"#7fbc41\"],[0.9,\"#4d9221\"],[1,\"#276419\"]],\"sequential\":[[0.0,\"#0d0887\"],[0.1111111111111111,\"#46039f\"],[0.2222222222222222,\"#7201a8\"],[0.3333333333333333,\"#9c179e\"],[0.4444444444444444,\"#bd3786\"],[0.5555555555555556,\"#d8576b\"],[0.6666666666666666,\"#ed7953\"],[0.7777777777777778,\"#fb9f3a\"],[0.8888888888888888,\"#fdca26\"],[1.0,\"#f0f921\"]],\"sequentialminus\":[[0.0,\"#0d0887\"],[0.1111111111111111,\"#46039f\"],[0.2222222222222222,\"#7201a8\"],[0.3333333333333333,\"#9c179e\"],[0.4444444444444444,\"#bd3786\"],[0.5555555555555556,\"#d8576b\"],[0.6666666666666666,\"#ed7953\"],[0.7777777777777778,\"#fb9f3a\"],[0.8888888888888888,\"#fdca26\"],[1.0,\"#f0f921\"]]},\"colorway\":[\"#636efa\",\"#EF553B\",\"#00cc96\",\"#ab63fa\",\"#FFA15A\",\"#19d3f3\",\"#FF6692\",\"#B6E880\",\"#FF97FF\",\"#FECB52\"],\"font\":{\"color\":\"#2a3f5f\"},\"geo\":{\"bgcolor\":\"white\",\"lakecolor\":\"white\",\"landcolor\":\"#E5ECF6\",\"showlakes\":true,\"showland\":true,\"subunitcolor\":\"white\"},\"hoverlabel\":{\"align\":\"left\"},\"hovermode\":\"closest\",\"mapbox\":{\"style\":\"light\"},\"paper_bgcolor\":\"white\",\"plot_bgcolor\":\"#E5ECF6\",\"polar\":{\"angularaxis\":{\"gridcolor\":\"white\",\"linecolor\":\"white\",\"ticks\":\"\"},\"bgcolor\":\"#E5ECF6\",\"radialaxis\":{\"gridcolor\":\"white\",\"linecolor\":\"white\",\"ticks\":\"\"}},\"scene\":{\"xaxis\":{\"backgroundcolor\":\"#E5ECF6\",\"gridcolor\":\"white\",\"gridwidth\":2,\"linecolor\":\"white\",\"showbackground\":true,\"ticks\":\"\",\"zerolinecolor\":\"white\"},\"yaxis\":{\"backgroundcolor\":\"#E5ECF6\",\"gridcolor\":\"white\",\"gridwidth\":2,\"linecolor\":\"white\",\"showbackground\":true,\"ticks\":\"\",\"zerolinecolor\":\"white\"},\"zaxis\":{\"backgroundcolor\":\"#E5ECF6\",\"gridcolor\":\"white\",\"gridwidth\":2,\"linecolor\":\"white\",\"showbackground\":true,\"ticks\":\"\",\"zerolinecolor\":\"white\"}},\"shapedefaults\":{\"line\":{\"color\":\"#2a3f5f\"}},\"ternary\":{\"aaxis\":{\"gridcolor\":\"white\",\"linecolor\":\"white\",\"ticks\":\"\"},\"baxis\":{\"gridcolor\":\"white\",\"linecolor\":\"white\",\"ticks\":\"\"},\"bgcolor\":\"#E5ECF6\",\"caxis\":{\"gridcolor\":\"white\",\"linecolor\":\"white\",\"ticks\":\"\"}},\"title\":{\"x\":0.05},\"xaxis\":{\"automargin\":true,\"gridcolor\":\"white\",\"linecolor\":\"white\",\"ticks\":\"\",\"title\":{\"standoff\":15},\"zerolinecolor\":\"white\",\"zerolinewidth\":2},\"yaxis\":{\"automargin\":true,\"gridcolor\":\"white\",\"linecolor\":\"white\",\"ticks\":\"\",\"title\":{\"standoff\":15},\"zerolinecolor\":\"white\",\"zerolinewidth\":2}}},\"title\":{\"text\":\"Comparaci\\u00f3n dos sensores\"}},                        {\"responsive\": true}                    ).then(function(){\n",
       "                            \n",
       "var gd = document.getElementById('e4f44855-01ae-4e22-864d-6c9a88a6dd39');\n",
       "var x = new MutationObserver(function (mutations, observer) {{\n",
       "        var display = window.getComputedStyle(gd).display;\n",
       "        if (!display || display === 'none') {{\n",
       "            console.log([gd, 'removed!']);\n",
       "            Plotly.purge(gd);\n",
       "            observer.disconnect();\n",
       "        }}\n",
       "}});\n",
       "\n",
       "// Listen for the removal of the full notebook cells\n",
       "var notebookContainer = gd.closest('#notebook-container');\n",
       "if (notebookContainer) {{\n",
       "    x.observe(notebookContainer, {childList: true});\n",
       "}}\n",
       "\n",
       "// Listen for the clearing of the current output cell\n",
       "var outputEl = gd.closest('.output');\n",
       "if (outputEl) {{\n",
       "    x.observe(outputEl, {childList: true});\n",
       "}}\n",
       "\n",
       "                        })                };                });            </script>        </div>"
      ]
     },
     "metadata": {},
     "output_type": "display_data"
    }
   ],
   "source": [
    "import plotly.graph_objects as go\n",
    "\n",
    "# Suponiendo que ya tienes un DataFrame df con columnas \"fechas\" y \"valores\"\n",
    "\n",
    "fig = go.Figure()\n",
    "fig.add_trace(go.Scatter(x=df1[\"fechas\"], y=df1[\"valores\"], mode='lines', name=\"Sensor 1,1\"))\n",
    "fig.add_trace(go.Scatter(x=df1[\"fechas\"], y=df2[\"valores\"], mode='lines', name=\"Sensor 1,2\"))\n",
    "\n",
    "fig.update_layout(title='Comparación dos sensores')\n",
    "\n",
    "fig.show()\n"
   ]
  }
 ],
 "metadata": {
  "kernelspec": {
   "display_name": "Python 3 (ipykernel)",
   "language": "python",
   "name": "python3"
  },
  "language_info": {
   "codemirror_mode": {
    "name": "ipython",
    "version": 3
   },
   "file_extension": ".py",
   "mimetype": "text/x-python",
   "name": "python",
   "nbconvert_exporter": "python",
   "pygments_lexer": "ipython3",
   "version": "3.9.7"
  }
 },
 "nbformat": 4,
 "nbformat_minor": 5
}
